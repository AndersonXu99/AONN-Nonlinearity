{
 "cells": [
  {
   "cell_type": "code",
   "execution_count": 18,
   "id": "a6a0191d",
   "metadata": {},
   "outputs": [
    {
     "name": "stdout",
     "output_type": "stream",
     "text": [
      "Connected to Red Pitaya at 10.165.61.248:5000\n",
      "\n",
      "Results over 5.0 s:\n",
      "  • Mean CH1:      -0.000262 V\n",
      "  • Mean CH2:      0.000904 V\n"
     ]
    }
   ],
   "source": [
    "#!/usr/bin/env python3\n",
    "import time\n",
    "import numpy as np\n",
    "from redpitaya_scpi import scpi\n",
    "\n",
    "# ── 1) Connect to the Pitaya SCPI server ─────────────────────────────────────\n",
    "PITAYA_IP   = '10.165.61.248'   # ← adjust to your Pitaya’s IP or mDNS name\n",
    "PITAYA_PORT = 5000\n",
    "\n",
    "try:\n",
    "    rp = scpi(PITAYA_IP, port=PITAYA_PORT)\n",
    "    print(f\"Connected to Red Pitaya at {PITAYA_IP}:{PITAYA_PORT}\")\n",
    "except Exception as e:\n",
    "    print(f\"ERROR: could not connect to {PITAYA_IP}:{PITAYA_PORT} → {e}\")\n",
    "    exit(1)\n",
    "\n",
    "# ── 2) Configure acquisition ───────────────────────────────────────────────────\n",
    "#   • DEC sets the decimation factor: 125 MS/s ÷ 1024 ≈ 122 kS/s\n",
    "#   • AVG OFF disables on‑FPGA averaging so we can average in Python\n",
    "rp.tx_txt('ACQ:DEC 1024')    # decimation                            :contentReference[oaicite:0]{index=0}\n",
    "rp.tx_txt('ACQ:AVG OFF')     # hardware averaging off                :contentReference[oaicite:1]{index=1}\n",
    "\n",
    "# ── 3) Arm & trigger ──────────────────────────────────────────────────────────\n",
    "rp.tx_txt('ACQ:START')       # arm acquisition                       :contentReference[oaicite:2]{index=2}\n",
    "rp.tx_txt('ACQ:TRIG NOW')    # immediate trigger                     :contentReference[oaicite:3]{index=3}\n",
    "\n",
    "# wait until trigger‑done (“TD”)\n",
    "while True:\n",
    "    rp.tx_txt('ACQ:TRIG:STAT?')\n",
    "    if rp.rx_txt().strip() == 'TD':\n",
    "        break                      # buffer is now ready                  :contentReference[oaicite:4]{index=4}\n",
    "\n",
    "# ── 4) Stream for 5 seconds ────────────────────────────────────────────────────\n",
    "DURATION_SEC = 5.0\n",
    "SAMPLES_PER_READ = 1000   # fetch 1000 points per channel each loop\n",
    "\n",
    "data_ch1 = []\n",
    "data_ch2 = []\n",
    "t_start = time.time()\n",
    "\n",
    "while (time.time() - t_start) < DURATION_SEC:\n",
    "    # fetch latest decimated points from each channel\n",
    "    block1 = rp.acq_data(1, num_samples=SAMPLES_PER_READ, lat=True, convert=True)\n",
    "    block2 = rp.acq_data(2, num_samples=SAMPLES_PER_READ, lat=True, convert=True)\n",
    "    data_ch1.extend(block1)\n",
    "    data_ch2.extend(block2)\n",
    "\n",
    "# ── 5) Compute means ───────────────────────────────────────────────────────────\n",
    "mean_ch1      = np.mean(data_ch1)\n",
    "mean_ch2      = np.mean(data_ch2)\n",
    "\n",
    "print(f\"\\nResults over {DURATION_SEC:.1f} s:\")\n",
    "print(f\"  • Mean CH1:      {mean_ch1:.6f} V\")\n",
    "print(f\"  • Mean CH2:      {mean_ch2:.6f} V\")\n"
   ]
  },
  {
   "cell_type": "code",
   "execution_count": null,
   "id": "ed028d0b",
   "metadata": {},
   "outputs": [],
   "source": []
  }
 ],
 "metadata": {
  "kernelspec": {
   "display_name": "Python 3 (ipykernel)",
   "language": "python",
   "name": "python3"
  },
  "language_info": {
   "codemirror_mode": {
    "name": "ipython",
    "version": 3
   },
   "file_extension": ".py",
   "mimetype": "text/x-python",
   "name": "python",
   "nbconvert_exporter": "python",
   "pygments_lexer": "ipython3",
   "version": "3.12.3"
  }
 },
 "nbformat": 4,
 "nbformat_minor": 5
}
